# ETD BBN Abundance Analysis

This notebook loads predicted light element abundances from the ETD model.

```python
import h5py

with h5py.File('../data/bbn/abundance_fits.h5', 'r') as f:
    for key in f.keys():
        data = f[key][()]
        print(f"{key}: {data[0]} ± {data[1]}")
    print(f"Model: {f.attrs['model']}")
```
